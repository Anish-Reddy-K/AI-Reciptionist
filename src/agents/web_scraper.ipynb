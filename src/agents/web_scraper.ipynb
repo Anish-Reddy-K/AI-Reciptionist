{
 "cells": [
  {
   "cell_type": "code",
   "execution_count": 5,
   "metadata": {},
   "outputs": [
    {
     "name": "stdout",
     "output_type": "stream",
     "text": [
      "Scraping completed. Data stored in business_info.txt\n"
     ]
    }
   ],
   "source": [
    "import requests\n",
    "from bs4 import BeautifulSoup\n",
    "from urllib.parse import urljoin, urlparse\n",
    "\n",
    "class WebScraperAgent:\n",
    "    def __init__(self, base_url):\n",
    "        self.base_url = base_url\n",
    "        self.visited_urls = set()\n",
    "        self.output_file = 'business_info.txt'\n",
    "        self.ignored_paths = ['blog', 'news', 'newsletter', 'insights', 'press']\n",
    "\n",
    "    def scrape_website(self):\n",
    "        with open(self.output_file, 'w', encoding='utf-8') as file:\n",
    "            self.scrape_page(self.base_url, file)\n",
    "\n",
    "    def scrape_page(self, url, file):\n",
    "        if url in self.visited_urls or self.should_ignore_url(url):\n",
    "            return\n",
    "\n",
    "        self.visited_urls.add(url)\n",
    "\n",
    "        try:\n",
    "            response = requests.get(url)\n",
    "            soup = BeautifulSoup(response.text, 'html.parser')\n",
    "\n",
    "            # Extract text content\n",
    "            content = soup.get_text(separator=' ', strip=True)\n",
    "\n",
    "            # Write to file\n",
    "            file.write(f\"URL: {url}\\n\")\n",
    "            file.write(f\"Content: {content}\\n\\n\")\n",
    "            file.write(\"-\" * 80 + \"\\n\\n\")  # Separator between pages\n",
    "\n",
    "            # Find and scrape linked pages\n",
    "            for link in soup.find_all('a', href=True):\n",
    "                next_url = urljoin(url, link['href'])\n",
    "                if self.is_same_domain(next_url) and not self.should_ignore_url(next_url):\n",
    "                    self.scrape_page(next_url, file)\n",
    "\n",
    "        except Exception as e:\n",
    "            print(f\"Error scraping {url}: {str(e)}\")\n",
    "\n",
    "    def is_same_domain(self, url):\n",
    "        return urlparse(url).netloc == urlparse(self.base_url).netloc\n",
    "\n",
    "    def should_ignore_url(self, url):\n",
    "        path = urlparse(url).path.lower()\n",
    "        return any(ignored in path for ignored in self.ignored_paths)\n",
    "\n",
    "# Usage\n",
    "if __name__ == \"__main__\":\n",
    "    business_url = input(\"Enter the business website URL: \")\n",
    "    scraper = WebScraperAgent(business_url)\n",
    "    scraper.scrape_website()\n",
    "    print(\"Scraping completed. Data stored in business_info.txt\")"
   ]
  },
  {
   "cell_type": "code",
   "execution_count": null,
   "metadata": {},
   "outputs": [],
   "source": []
  }
 ],
 "metadata": {
  "kernelspec": {
   "display_name": "AI_REC",
   "language": "python",
   "name": "python3"
  },
  "language_info": {
   "codemirror_mode": {
    "name": "ipython",
    "version": 3
   },
   "file_extension": ".py",
   "mimetype": "text/x-python",
   "name": "python",
   "nbconvert_exporter": "python",
   "pygments_lexer": "ipython3",
   "version": "3.12.5"
  }
 },
 "nbformat": 4,
 "nbformat_minor": 2
}
